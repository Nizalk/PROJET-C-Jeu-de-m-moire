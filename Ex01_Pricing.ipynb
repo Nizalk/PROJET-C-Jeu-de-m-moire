{
  "nbformat": 4,
  "nbformat_minor": 0,
  "metadata": {
    "colab": {
      "provenance": [],
      "authorship_tag": "ABX9TyOMVHBIULOLe+L6nLeF1+Wn",
      "include_colab_link": true
    },
    "kernelspec": {
      "name": "python3",
      "display_name": "Python 3"
    },
    "language_info": {
      "name": "python"
    }
  },
  "cells": [
    {
      "cell_type": "markdown",
      "metadata": {
        "id": "view-in-github",
        "colab_type": "text"
      },
      "source": [
        "<a href=\"https://colab.research.google.com/github/Nizalk/PROJET-C-Jeu-de-m-moire/blob/main/Ex01_Pricing.ipynb\" target=\"_parent\"><img src=\"https://colab.research.google.com/assets/colab-badge.svg\" alt=\"Open In Colab\"/></a>"
      ]
    },
    {
      "cell_type": "code",
      "source": [
        "import pandas as pd\n",
        "\n",
        "pricing = pd.DataFrame({\n",
        "    'prices': [100, 90, 70, 60, 40, 20, 10],\n",
        "    'demand': [100, 120, 200, 300, 1200, 2000, 2800]\n",
        "})\n",
        "\n",
        "def revenue_maximizing_price(prices, demand):\n",
        "    pricing['revenue'] = pricing['prices'] * pricing['demand']\n",
        "    optimal_price_index = pricing['revenue'].idxmax()\n",
        "    optimal_price = pricing.loc[optimal_price_index, 'prices']\n",
        "    return optimal_price\n",
        "\n",
        "optimal_price = revenue_maximizing_price(pricing['prices'], pricing['demand'])\n",
        "print(\"The optimal price that maximizes revenue is:\", optimal_price)"
      ],
      "metadata": {
        "colab": {
          "base_uri": "https://localhost:8080/"
        },
        "id": "kVqGRgkNBjtJ",
        "outputId": "1fb3e4c9-a2b1-45f6-ab77-33330dae998c"
      },
      "execution_count": null,
      "outputs": [
        {
          "output_type": "stream",
          "name": "stdout",
          "text": [
            "The optimal price that maximizes revenue is: 40\n"
          ]
        }
      ]
    },
    {
      "cell_type": "code",
      "source": [],
      "metadata": {
        "id": "GbvnuAwUKfc8"
      },
      "execution_count": null,
      "outputs": []
    }
  ]
}